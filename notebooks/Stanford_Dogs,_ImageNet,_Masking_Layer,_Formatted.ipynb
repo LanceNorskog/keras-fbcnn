{
  "nbformat": 4,
  "nbformat_minor": 0,
  "metadata": {
    "colab": {
      "name": "Stanford Dogs, ImageNet, Masking Layer, Formatted.ipynb",
      "provenance": [],
      "collapsed_sections": []
    },
    "kernelspec": {
      "name": "python3",
      "display_name": "Python 3"
    },
    "language_info": {
      "name": "python"
    },
    "accelerator": "GPU"
  },
  "cells": [
    {
      "cell_type": "code",
      "execution_count": 1,
      "metadata": {
        "id": "jw7qWOTMDXR8"
      },
      "outputs": [],
      "source": [
        "import os\n",
        "import tensorflow as tf\n",
        "from tensorflow.keras.applications import EfficientNetB0\n",
        "import tensorflow_datasets as tfds\n",
        "import numpy as np\n",
        "import matplotlib.pyplot as plt\n",
        "from PIL import Image"
      ]
    },
    {
      "cell_type": "markdown",
      "source": [
        "Use Masking Layer to create an ImageNet that only predicts for Stanford Dogs dataset.\n",
        "Need mapping list of indices between full ImageNet and Stanford Dogs."
      ],
      "metadata": {
        "id": "f9aAcqfeDbqV"
      }
    },
    {
      "cell_type": "markdown",
      "source": [
        "Concept:\n",
        "start with existing Stanford Dogs notebook about transfer learning.\n",
        "Need mapping list of indices between full ImageNet and Stanford Dogs.\n",
        "\n",
        "Load ImageNet model.\n",
        "Download any subset of ImageNet with original indexes, preferably a mix with some dogs.\n",
        "Predict from subset\n",
        "Display misclassified image pairs. \n",
        "\n",
        "\n",
        "Stanford Dogs section\n",
        "Create 2-way mapping tables\n",
        "Predict SD only:\n",
        "Create Dataset which maps index to ImageNet index\n",
        "Predict Stanford Dogs from ImageNet with evaluate.\n",
        "Predict again, pulling logits, counting misclassified outside of SD index list.\n",
        "Display misclassified outside \n",
        "\n",
        "Save weights to file.\n",
        "Pop final Dense layer.\n",
        "Get name and config params, verify activation = softmax\n",
        "Create new Dense layer with same shape and name, no activation.\n",
        "Create simple Model with just Dense layer\n",
        "'load weights by name' into new Model\n",
        "now have Dense with no activation\n",
        "Add Dense to ImageNet model.\n",
        "Add Masking to ImageNet model.\n",
        "Add Softmax layer.\n",
        "\n"
      ],
      "metadata": {
        "id": "1fFu7kcjDrMF"
      }
    },
    {
      "cell_type": "code",
      "source": [
        "\n",
        "IMG_SIZE = 224\n",
        "DENSE_INPUT = 1280\n",
        "IMAGENET_CLASSES = 1000\n",
        "STANFORD_DOGS_CLASSES = 120\n",
        "batch_size = 64\n",
        "\n"
      ],
      "metadata": {
        "id": "P5H7SPNUC6SC"
      },
      "execution_count": 2,
      "outputs": []
    },
    {
      "cell_type": "markdown",
      "source": [
        "The Stanford Dogs image set is a subset of ImageNet-1000, and occupies a few ranges of indexes in the larger dataset. (Stanford Dogs does not include several wild canid species, sticking entirely to domestic breeds.) The Stanford Dogs label range is different than IN-1k, so we have to map the indexes back to the IN-1k index range. "
      ],
      "metadata": {
        "id": "zS7qS4irp_qW"
      }
    },
    {
      "cell_type": "code",
      "source": [
        "def sd2imagenet(index):\n",
        "    if index >= 0 and index <= 99:\n",
        "        return index + 151\n",
        "    elif index >= 100 and index <= 116:\n",
        "        return index + 152\n",
        "    elif index >= 117 and index <= 119:\n",
        "        return index + 156\n",
        "    else:\n",
        "        return -1\n",
        "\n",
        "def imagenet2sd(index):\n",
        "    if index >= 151 and index <= 250:\n",
        "        return index - 151\n",
        "    elif index >= 252 and index <= 268:\n",
        "        return index - 152\n",
        "    elif index >= 273 and index <= 275:\n",
        "        return index - 156\n",
        "    else:\n",
        "        return -1\n",
        "\n",
        "def get_sd_mask():\n",
        "    masks = [0.0] * IMAGENET_CLASSES \n",
        "    for index in range(STANFORD_DOGS_CLASSES):\n",
        "        masks[sd2imagenet(index)] = 1.0\n",
        "    return masks\n",
        "\n",
        "STANFORD_DOGS_MASK = get_sd_mask()\n",
        "ANIMALS_MASK = np.zeros((IMAGENET_CLASSES,))\n",
        "ANIMALS_MASK[:398] = 1.0\n",
        "ANIMALS_MASK = ANIMALS_MASK.tolist()"
      ],
      "metadata": {
        "id": "SBHessuAm5Vo"
      },
      "execution_count": 3,
      "outputs": []
    },
    {
      "cell_type": "markdown",
      "source": [
        "Load the Stanford Dogs TF Dataset, prepare iterators, and map the indexes."
      ],
      "metadata": {
        "id": "E946OUf-8Oie"
      }
    },
    {
      "cell_type": "code",
      "source": [
        "dataset_name = \"stanford_dogs\"\n",
        "(ds_train, ds_test), ds_info = tfds.load(\n",
        "    dataset_name, split=[\"train\", \"test\"], with_info=True, as_supervised=True\n",
        ")\n",
        "def input_preprocess(image, label):\n",
        "    mapped = sd2imagenet(int(label))\n",
        "    onehot = tf.one_hot(mapped, IMAGENET_CLASSES)\n",
        "    return image, onehot\n",
        "ds_train = ds_train.map(\n",
        "    input_preprocess, num_parallel_calls=tf.data.AUTOTUNE\n",
        ")\n",
        "ds_test = ds_test.map(\n",
        "    input_preprocess, num_parallel_calls=tf.data.AUTOTUNE\n",
        ")\n",
        "size = (IMG_SIZE, IMG_SIZE)\n",
        "ds_train = ds_train.map(lambda image, label: (tf.image.resize(image, size), label))\n",
        "ds_test = ds_test.map(lambda image, label: (tf.image.resize(image, size), label))\n",
        "# forget input augmentation as we are not training\n",
        "ds_train = ds_train.batch(batch_size=batch_size, drop_remainder=True)\n",
        "ds_train = ds_train.prefetch(tf.data.AUTOTUNE)\n",
        "ds_test = ds_test.batch(batch_size=batch_size, drop_remainder=True)\n"
      ],
      "metadata": {
        "id": "2vkNr0n-7xNE"
      },
      "execution_count": 4,
      "outputs": []
    },
    {
      "cell_type": "code",
      "source": [
        "def build_masked_effnet(mask):\n",
        "    assert type(mask) == type([]) and type(mask[0]) == type(1.0)\n",
        "    effnet = EfficientNetB0(weights='imagenet')\n",
        "    effnet.trainable = False\n",
        "    m = tf.keras.models.Sequential()\n",
        "    m.add(effnet)\n",
        "\n",
        "    mask_layer = tf.keras.layers.Lambda(lambda x: x * mask)\n",
        "    m.add(mask_layer)\n",
        "    softmax_layer = tf.keras.layers.Softmax()\n",
        "    m.add(softmax_layer)\n",
        "    m.compile(optimizer='Adam', loss=\"categorical_crossentropy\", metrics=[\"accuracy\"])\n",
        "    m.trainable = False\n",
        "    return m"
      ],
      "metadata": {
        "id": "SE9GD1gjgbtX"
      },
      "execution_count": 6,
      "outputs": []
    },
    {
      "cell_type": "code",
      "source": [
        "effnet = EfficientNetB0(weights='imagenet')\n",
        "effnet.trainable = False\n",
        "effnet.compile(optimizer='Adam', loss=\"categorical_crossentropy\", metrics=[\"accuracy\"])\n",
        "_, original_accuracy_train = effnet.evaluate(ds_train)\n",
        "_, original_accuracy_test = effnet.evaluate(ds_test)"
      ],
      "metadata": {
        "id": "tYlX7Ljd0w3M",
        "colab": {
          "base_uri": "https://localhost:8080/"
        },
        "outputId": "a38c12c0-f40b-4595-c4df-662d1927f5f9"
      },
      "execution_count": 7,
      "outputs": [
        {
          "output_type": "stream",
          "name": "stdout",
          "text": [
            "187/187 [==============================] - 32s 132ms/step - loss: 0.6416 - accuracy: 0.8507\n",
            "134/134 [==============================] - 15s 113ms/step - loss: 0.6182 - accuracy: 0.8631\n"
          ]
        }
      ]
    },
    {
      "cell_type": "code",
      "source": [
        "animals_model = build_masked_effnet(ANIMALS_MASK)\n",
        "_, animals_accuracy_train = animals_model.evaluate(ds_train)\n",
        "_, animals_accuracy_test = animals_model.evaluate(ds_test)"
      ],
      "metadata": {
        "id": "8zgahOSRxSwQ",
        "colab": {
          "base_uri": "https://localhost:8080/"
        },
        "outputId": "dfd2e086-dcc5-4c38-82c1-b2c2034f0bcf"
      },
      "execution_count": 8,
      "outputs": [
        {
          "output_type": "stream",
          "name": "stdout",
          "text": [
            "187/187 [==============================] - 24s 115ms/step - loss: 6.2583 - accuracy: 0.8524\n",
            "134/134 [==============================] - 15s 112ms/step - loss: 6.2511 - accuracy: 0.8656\n"
          ]
        }
      ]
    },
    {
      "cell_type": "code",
      "source": [
        "dogs_model = build_masked_effnet(STANFORD_DOGS_MASK)\n",
        "_, dogs_accuracy_train = dogs_model.evaluate(ds_train)\n",
        "_, dogs_accuracy_test = dogs_model.evaluate(ds_test)"
      ],
      "metadata": {
        "id": "8KpZfQmF1FVh",
        "colab": {
          "base_uri": "https://localhost:8080/"
        },
        "outputId": "d2efe64e-d669-447f-e2fd-aab93aec13b5"
      },
      "execution_count": 9,
      "outputs": [
        {
          "output_type": "stream",
          "name": "stdout",
          "text": [
            "187/187 [==============================] - 24s 117ms/step - loss: 6.2583 - accuracy: 0.8557\n",
            "134/134 [==============================] - 15s 114ms/step - loss: 6.2511 - accuracy: 0.8693\n"
          ]
        }
      ]
    },
    {
      "cell_type": "code",
      "source": [
        "print('Accuracy for full 1k classes, training/testing\\n\\t', original_accuracy_train, '\\n\\t', original_accuracy_test)\n",
        "print('Accuracy for class set of all animals, training/testing\\n\\t', animals_accuracy_train, '\\n\\t', animals_accuracy_test)\n",
        "print('Accuracy for Stanford Dogs class set, training/testing\\n\\t', dogs_accuracy_train, '\\n\\t', dogs_accuracy_test)"
      ],
      "metadata": {
        "colab": {
          "base_uri": "https://localhost:8080/"
        },
        "id": "PDCJCvSgYNCQ",
        "outputId": "356e778a-361a-4a87-cd7a-c2e5badc0d00"
      },
      "execution_count": 10,
      "outputs": [
        {
          "output_type": "stream",
          "name": "stdout",
          "text": [
            "Accuracy for full 1k classes, training/testing\n",
            "\t 0.850685179233551 \n",
            "\t 0.863106369972229\n",
            "Accuracy for class set of all animals, training/testing\n",
            "\t 0.852439820766449 \n",
            "\t 0.8655550479888916\n",
            "Accuracy for Stanford Dogs class set, training/testing\n",
            "\t 0.8556985259056091 \n",
            "\t 0.8692863583564758\n"
          ]
        }
      ]
    },
    {
      "cell_type": "code",
      "source": [
        ""
      ],
      "metadata": {
        "id": "-DnbJOUBVbq3"
      },
      "execution_count": 10,
      "outputs": []
    }
  ]
}